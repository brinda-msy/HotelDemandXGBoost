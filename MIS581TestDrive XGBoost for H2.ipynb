{
 "cells": [
  {
   "cell_type": "code",
   "execution_count": 141,
   "metadata": {},
   "outputs": [
    {
     "data": {
      "text/html": [
       "<div>\n",
       "<style scoped>\n",
       "    .dataframe tbody tr th:only-of-type {\n",
       "        vertical-align: middle;\n",
       "    }\n",
       "\n",
       "    .dataframe tbody tr th {\n",
       "        vertical-align: top;\n",
       "    }\n",
       "\n",
       "    .dataframe thead th {\n",
       "        text-align: right;\n",
       "    }\n",
       "</style>\n",
       "<table border=\"1\" class=\"dataframe\">\n",
       "  <thead>\n",
       "    <tr style=\"text-align: right;\">\n",
       "      <th></th>\n",
       "      <th>is_canceled</th>\n",
       "      <th>lead_time</th>\n",
       "      <th>stays_in_week_nights</th>\n",
       "      <th>adults</th>\n",
       "      <th>children</th>\n",
       "      <th>babies</th>\n",
       "      <th>meal</th>\n",
       "      <th>market_segment</th>\n",
       "      <th>distribution_channel</th>\n",
       "      <th>is_repeated_guest</th>\n",
       "      <th>previous_cancellations</th>\n",
       "      <th>previous_bookings_not_canceled</th>\n",
       "      <th>booking_changes</th>\n",
       "      <th>deposit_type</th>\n",
       "      <th>days_in_waiting_list</th>\n",
       "      <th>customer_type</th>\n",
       "      <th>required_car_parking_spaces</th>\n",
       "      <th>total_of_special_requests</th>\n",
       "      <th>different_assigned_room</th>\n",
       "    </tr>\n",
       "  </thead>\n",
       "  <tbody>\n",
       "    <tr>\n",
       "      <th>0</th>\n",
       "      <td>0</td>\n",
       "      <td>6</td>\n",
       "      <td>2</td>\n",
       "      <td>1</td>\n",
       "      <td>0.0</td>\n",
       "      <td>0</td>\n",
       "      <td>2</td>\n",
       "      <td>7</td>\n",
       "      <td>4</td>\n",
       "      <td>0</td>\n",
       "      <td>0</td>\n",
       "      <td>0</td>\n",
       "      <td>0</td>\n",
       "      <td>1</td>\n",
       "      <td>0</td>\n",
       "      <td>3</td>\n",
       "      <td>0</td>\n",
       "      <td>0</td>\n",
       "      <td>0</td>\n",
       "    </tr>\n",
       "    <tr>\n",
       "      <th>1</th>\n",
       "      <td>1</td>\n",
       "      <td>88</td>\n",
       "      <td>4</td>\n",
       "      <td>2</td>\n",
       "      <td>0.0</td>\n",
       "      <td>0</td>\n",
       "      <td>1</td>\n",
       "      <td>6</td>\n",
       "      <td>4</td>\n",
       "      <td>0</td>\n",
       "      <td>0</td>\n",
       "      <td>0</td>\n",
       "      <td>0</td>\n",
       "      <td>1</td>\n",
       "      <td>0</td>\n",
       "      <td>3</td>\n",
       "      <td>0</td>\n",
       "      <td>1</td>\n",
       "      <td>0</td>\n",
       "    </tr>\n",
       "    <tr>\n",
       "      <th>2</th>\n",
       "      <td>1</td>\n",
       "      <td>65</td>\n",
       "      <td>4</td>\n",
       "      <td>1</td>\n",
       "      <td>0.0</td>\n",
       "      <td>0</td>\n",
       "      <td>1</td>\n",
       "      <td>6</td>\n",
       "      <td>4</td>\n",
       "      <td>0</td>\n",
       "      <td>0</td>\n",
       "      <td>0</td>\n",
       "      <td>0</td>\n",
       "      <td>1</td>\n",
       "      <td>0</td>\n",
       "      <td>3</td>\n",
       "      <td>0</td>\n",
       "      <td>1</td>\n",
       "      <td>0</td>\n",
       "    </tr>\n",
       "    <tr>\n",
       "      <th>3</th>\n",
       "      <td>1</td>\n",
       "      <td>92</td>\n",
       "      <td>4</td>\n",
       "      <td>2</td>\n",
       "      <td>0.0</td>\n",
       "      <td>0</td>\n",
       "      <td>1</td>\n",
       "      <td>6</td>\n",
       "      <td>4</td>\n",
       "      <td>0</td>\n",
       "      <td>0</td>\n",
       "      <td>0</td>\n",
       "      <td>0</td>\n",
       "      <td>1</td>\n",
       "      <td>0</td>\n",
       "      <td>3</td>\n",
       "      <td>0</td>\n",
       "      <td>2</td>\n",
       "      <td>0</td>\n",
       "    </tr>\n",
       "    <tr>\n",
       "      <th>4</th>\n",
       "      <td>1</td>\n",
       "      <td>100</td>\n",
       "      <td>2</td>\n",
       "      <td>2</td>\n",
       "      <td>0.0</td>\n",
       "      <td>0</td>\n",
       "      <td>1</td>\n",
       "      <td>6</td>\n",
       "      <td>4</td>\n",
       "      <td>0</td>\n",
       "      <td>0</td>\n",
       "      <td>0</td>\n",
       "      <td>0</td>\n",
       "      <td>1</td>\n",
       "      <td>0</td>\n",
       "      <td>3</td>\n",
       "      <td>0</td>\n",
       "      <td>1</td>\n",
       "      <td>0</td>\n",
       "    </tr>\n",
       "    <tr>\n",
       "      <th>5</th>\n",
       "      <td>1</td>\n",
       "      <td>79</td>\n",
       "      <td>3</td>\n",
       "      <td>2</td>\n",
       "      <td>0.0</td>\n",
       "      <td>0</td>\n",
       "      <td>1</td>\n",
       "      <td>6</td>\n",
       "      <td>4</td>\n",
       "      <td>0</td>\n",
       "      <td>0</td>\n",
       "      <td>0</td>\n",
       "      <td>0</td>\n",
       "      <td>1</td>\n",
       "      <td>0</td>\n",
       "      <td>3</td>\n",
       "      <td>0</td>\n",
       "      <td>1</td>\n",
       "      <td>0</td>\n",
       "    </tr>\n",
       "    <tr>\n",
       "      <th>6</th>\n",
       "      <td>0</td>\n",
       "      <td>3</td>\n",
       "      <td>3</td>\n",
       "      <td>1</td>\n",
       "      <td>0.0</td>\n",
       "      <td>0</td>\n",
       "      <td>2</td>\n",
       "      <td>5</td>\n",
       "      <td>4</td>\n",
       "      <td>0</td>\n",
       "      <td>0</td>\n",
       "      <td>0</td>\n",
       "      <td>1</td>\n",
       "      <td>1</td>\n",
       "      <td>0</td>\n",
       "      <td>4</td>\n",
       "      <td>0</td>\n",
       "      <td>0</td>\n",
       "      <td>0</td>\n",
       "    </tr>\n",
       "    <tr>\n",
       "      <th>7</th>\n",
       "      <td>1</td>\n",
       "      <td>63</td>\n",
       "      <td>3</td>\n",
       "      <td>1</td>\n",
       "      <td>0.0</td>\n",
       "      <td>0</td>\n",
       "      <td>1</td>\n",
       "      <td>6</td>\n",
       "      <td>4</td>\n",
       "      <td>0</td>\n",
       "      <td>0</td>\n",
       "      <td>0</td>\n",
       "      <td>0</td>\n",
       "      <td>1</td>\n",
       "      <td>0</td>\n",
       "      <td>3</td>\n",
       "      <td>0</td>\n",
       "      <td>0</td>\n",
       "      <td>0</td>\n",
       "    </tr>\n",
       "    <tr>\n",
       "      <th>8</th>\n",
       "      <td>1</td>\n",
       "      <td>62</td>\n",
       "      <td>3</td>\n",
       "      <td>2</td>\n",
       "      <td>0.0</td>\n",
       "      <td>0</td>\n",
       "      <td>1</td>\n",
       "      <td>6</td>\n",
       "      <td>4</td>\n",
       "      <td>0</td>\n",
       "      <td>0</td>\n",
       "      <td>0</td>\n",
       "      <td>0</td>\n",
       "      <td>1</td>\n",
       "      <td>0</td>\n",
       "      <td>3</td>\n",
       "      <td>0</td>\n",
       "      <td>1</td>\n",
       "      <td>0</td>\n",
       "    </tr>\n",
       "    <tr>\n",
       "      <th>9</th>\n",
       "      <td>1</td>\n",
       "      <td>62</td>\n",
       "      <td>3</td>\n",
       "      <td>2</td>\n",
       "      <td>0.0</td>\n",
       "      <td>0</td>\n",
       "      <td>1</td>\n",
       "      <td>6</td>\n",
       "      <td>4</td>\n",
       "      <td>0</td>\n",
       "      <td>0</td>\n",
       "      <td>0</td>\n",
       "      <td>0</td>\n",
       "      <td>1</td>\n",
       "      <td>0</td>\n",
       "      <td>3</td>\n",
       "      <td>0</td>\n",
       "      <td>1</td>\n",
       "      <td>0</td>\n",
       "    </tr>\n",
       "    <tr>\n",
       "      <th>10</th>\n",
       "      <td>0</td>\n",
       "      <td>43</td>\n",
       "      <td>2</td>\n",
       "      <td>2</td>\n",
       "      <td>0.0</td>\n",
       "      <td>0</td>\n",
       "      <td>2</td>\n",
       "      <td>5</td>\n",
       "      <td>4</td>\n",
       "      <td>0</td>\n",
       "      <td>0</td>\n",
       "      <td>0</td>\n",
       "      <td>0</td>\n",
       "      <td>1</td>\n",
       "      <td>0</td>\n",
       "      <td>4</td>\n",
       "      <td>0</td>\n",
       "      <td>0</td>\n",
       "      <td>0</td>\n",
       "    </tr>\n",
       "    <tr>\n",
       "      <th>11</th>\n",
       "      <td>0</td>\n",
       "      <td>43</td>\n",
       "      <td>2</td>\n",
       "      <td>2</td>\n",
       "      <td>0.0</td>\n",
       "      <td>0</td>\n",
       "      <td>2</td>\n",
       "      <td>5</td>\n",
       "      <td>4</td>\n",
       "      <td>0</td>\n",
       "      <td>0</td>\n",
       "      <td>0</td>\n",
       "      <td>1</td>\n",
       "      <td>1</td>\n",
       "      <td>0</td>\n",
       "      <td>4</td>\n",
       "      <td>0</td>\n",
       "      <td>0</td>\n",
       "      <td>0</td>\n",
       "    </tr>\n",
       "    <tr>\n",
       "      <th>12</th>\n",
       "      <td>0</td>\n",
       "      <td>43</td>\n",
       "      <td>2</td>\n",
       "      <td>2</td>\n",
       "      <td>0.0</td>\n",
       "      <td>0</td>\n",
       "      <td>2</td>\n",
       "      <td>5</td>\n",
       "      <td>4</td>\n",
       "      <td>0</td>\n",
       "      <td>0</td>\n",
       "      <td>0</td>\n",
       "      <td>0</td>\n",
       "      <td>1</td>\n",
       "      <td>0</td>\n",
       "      <td>4</td>\n",
       "      <td>0</td>\n",
       "      <td>0</td>\n",
       "      <td>0</td>\n",
       "    </tr>\n",
       "    <tr>\n",
       "      <th>13</th>\n",
       "      <td>0</td>\n",
       "      <td>4</td>\n",
       "      <td>2</td>\n",
       "      <td>1</td>\n",
       "      <td>0.0</td>\n",
       "      <td>0</td>\n",
       "      <td>2</td>\n",
       "      <td>5</td>\n",
       "      <td>4</td>\n",
       "      <td>0</td>\n",
       "      <td>0</td>\n",
       "      <td>0</td>\n",
       "      <td>0</td>\n",
       "      <td>1</td>\n",
       "      <td>0</td>\n",
       "      <td>4</td>\n",
       "      <td>0</td>\n",
       "      <td>0</td>\n",
       "      <td>0</td>\n",
       "    </tr>\n",
       "    <tr>\n",
       "      <th>14</th>\n",
       "      <td>1</td>\n",
       "      <td>43</td>\n",
       "      <td>2</td>\n",
       "      <td>2</td>\n",
       "      <td>0.0</td>\n",
       "      <td>0</td>\n",
       "      <td>2</td>\n",
       "      <td>5</td>\n",
       "      <td>4</td>\n",
       "      <td>0</td>\n",
       "      <td>0</td>\n",
       "      <td>0</td>\n",
       "      <td>0</td>\n",
       "      <td>1</td>\n",
       "      <td>0</td>\n",
       "      <td>4</td>\n",
       "      <td>0</td>\n",
       "      <td>0</td>\n",
       "      <td>0</td>\n",
       "    </tr>\n",
       "  </tbody>\n",
       "</table>\n",
       "</div>"
      ],
      "text/plain": [
       "    is_canceled  lead_time  stays_in_week_nights  adults  children  babies  \\\n",
       "0             0          6                     2       1       0.0       0   \n",
       "1             1         88                     4       2       0.0       0   \n",
       "2             1         65                     4       1       0.0       0   \n",
       "3             1         92                     4       2       0.0       0   \n",
       "4             1        100                     2       2       0.0       0   \n",
       "5             1         79                     3       2       0.0       0   \n",
       "6             0          3                     3       1       0.0       0   \n",
       "7             1         63                     3       1       0.0       0   \n",
       "8             1         62                     3       2       0.0       0   \n",
       "9             1         62                     3       2       0.0       0   \n",
       "10            0         43                     2       2       0.0       0   \n",
       "11            0         43                     2       2       0.0       0   \n",
       "12            0         43                     2       2       0.0       0   \n",
       "13            0          4                     2       1       0.0       0   \n",
       "14            1         43                     2       2       0.0       0   \n",
       "\n",
       "    meal  market_segment  distribution_channel  is_repeated_guest  \\\n",
       "0      2               7                     4                  0   \n",
       "1      1               6                     4                  0   \n",
       "2      1               6                     4                  0   \n",
       "3      1               6                     4                  0   \n",
       "4      1               6                     4                  0   \n",
       "5      1               6                     4                  0   \n",
       "6      2               5                     4                  0   \n",
       "7      1               6                     4                  0   \n",
       "8      1               6                     4                  0   \n",
       "9      1               6                     4                  0   \n",
       "10     2               5                     4                  0   \n",
       "11     2               5                     4                  0   \n",
       "12     2               5                     4                  0   \n",
       "13     2               5                     4                  0   \n",
       "14     2               5                     4                  0   \n",
       "\n",
       "    previous_cancellations  previous_bookings_not_canceled  booking_changes  \\\n",
       "0                        0                               0                0   \n",
       "1                        0                               0                0   \n",
       "2                        0                               0                0   \n",
       "3                        0                               0                0   \n",
       "4                        0                               0                0   \n",
       "5                        0                               0                0   \n",
       "6                        0                               0                1   \n",
       "7                        0                               0                0   \n",
       "8                        0                               0                0   \n",
       "9                        0                               0                0   \n",
       "10                       0                               0                0   \n",
       "11                       0                               0                1   \n",
       "12                       0                               0                0   \n",
       "13                       0                               0                0   \n",
       "14                       0                               0                0   \n",
       "\n",
       "    deposit_type  days_in_waiting_list  customer_type  \\\n",
       "0              1                     0              3   \n",
       "1              1                     0              3   \n",
       "2              1                     0              3   \n",
       "3              1                     0              3   \n",
       "4              1                     0              3   \n",
       "5              1                     0              3   \n",
       "6              1                     0              4   \n",
       "7              1                     0              3   \n",
       "8              1                     0              3   \n",
       "9              1                     0              3   \n",
       "10             1                     0              4   \n",
       "11             1                     0              4   \n",
       "12             1                     0              4   \n",
       "13             1                     0              4   \n",
       "14             1                     0              4   \n",
       "\n",
       "    required_car_parking_spaces  total_of_special_requests  \\\n",
       "0                             0                          0   \n",
       "1                             0                          1   \n",
       "2                             0                          1   \n",
       "3                             0                          2   \n",
       "4                             0                          1   \n",
       "5                             0                          1   \n",
       "6                             0                          0   \n",
       "7                             0                          0   \n",
       "8                             0                          1   \n",
       "9                             0                          1   \n",
       "10                            0                          0   \n",
       "11                            0                          0   \n",
       "12                            0                          0   \n",
       "13                            0                          0   \n",
       "14                            0                          0   \n",
       "\n",
       "    different_assigned_room  \n",
       "0                         0  \n",
       "1                         0  \n",
       "2                         0  \n",
       "3                         0  \n",
       "4                         0  \n",
       "5                         0  \n",
       "6                         0  \n",
       "7                         0  \n",
       "8                         0  \n",
       "9                         0  \n",
       "10                        0  \n",
       "11                        0  \n",
       "12                        0  \n",
       "13                        0  \n",
       "14                        0  "
      ]
     },
     "execution_count": 141,
     "metadata": {},
     "output_type": "execute_result"
    }
   ],
   "source": [
    "import pandas as pd # import pandas \n",
    "import os \n",
    "bookings = pd.read_csv(\"/Users/brindamunuswamy/Desktop/MIS581/h2Features.csv\") # read CSV into pandas\n",
    "bookings.head(15) #reading top 5 rows"
   ]
  },
  {
   "cell_type": "code",
   "execution_count": 142,
   "metadata": {},
   "outputs": [
    {
     "name": "stdout",
     "output_type": "stream",
     "text": [
      "<class 'pandas.core.frame.DataFrame'>\n",
      "RangeIndex: 79330 entries, 0 to 79329\n",
      "Data columns (total 19 columns):\n",
      " #   Column                          Non-Null Count  Dtype  \n",
      "---  ------                          --------------  -----  \n",
      " 0   is_canceled                     79330 non-null  int64  \n",
      " 1   lead_time                       79330 non-null  int64  \n",
      " 2   stays_in_week_nights            79330 non-null  int64  \n",
      " 3   adults                          79330 non-null  int64  \n",
      " 4   children                        79330 non-null  float64\n",
      " 5   babies                          79330 non-null  int64  \n",
      " 6   meal                            79330 non-null  int64  \n",
      " 7   market_segment                  79330 non-null  int64  \n",
      " 8   distribution_channel            79330 non-null  int64  \n",
      " 9   is_repeated_guest               79330 non-null  int64  \n",
      " 10  previous_cancellations          79330 non-null  int64  \n",
      " 11  previous_bookings_not_canceled  79330 non-null  int64  \n",
      " 12  booking_changes                 79330 non-null  int64  \n",
      " 13  deposit_type                    79330 non-null  int64  \n",
      " 14  days_in_waiting_list            79330 non-null  int64  \n",
      " 15  customer_type                   79330 non-null  int64  \n",
      " 16  required_car_parking_spaces     79330 non-null  int64  \n",
      " 17  total_of_special_requests       79330 non-null  int64  \n",
      " 18  different_assigned_room         79330 non-null  int64  \n",
      "dtypes: float64(1), int64(18)\n",
      "memory usage: 11.5 MB\n"
     ]
    }
   ],
   "source": [
    "bookings.info()"
   ]
  },
  {
   "cell_type": "code",
   "execution_count": 143,
   "metadata": {},
   "outputs": [
    {
     "data": {
      "text/plain": [
       "0    46228\n",
       "1    33102\n",
       "Name: is_canceled, dtype: int64"
      ]
     },
     "execution_count": 143,
     "metadata": {},
     "output_type": "execute_result"
    }
   ],
   "source": [
    "bookings['is_canceled'].value_counts() "
   ]
  },
  {
   "cell_type": "code",
   "execution_count": 144,
   "metadata": {},
   "outputs": [
    {
     "data": {
      "image/png": "[encoded data removed]",
      "text/plain": [
       "<Figure size 504x504 with 1 Axes>"
      ]
     },
     "metadata": {},
     "output_type": "display_data"
    }
   ],
   "source": [
    "bookings['is_canceled'].value_counts() #benchmark cancellation rate for h2\n",
    "import matplotlib.pyplot as plt\n",
    "piedata = bookings['is_canceled'].value_counts()\n",
    "my_colors = ['lightblue','lavender'] # custom colors\n",
    "my_explode = (0.1,0) # custom effects\n",
    "plt.figure(figsize=(7,7)) #custom size for the pie chart\n",
    "piedata.plot.pie(autopct=\"%.1f%%\",colors=my_colors,explode=my_explode,shadow=True) #pie chart creation\n",
    "plt.title(\"Cancellation rate for H2\")\n",
    "plt.show()"
   ]
  },
  {
   "cell_type": "code",
   "execution_count": 145,
   "metadata": {},
   "outputs": [],
   "source": [
    "from numpy import loadtxt\n",
    "from xgboost import XGBClassifier\n",
    "from sklearn.model_selection import train_test_split\n",
    "from sklearn.metrics import accuracy_score"
   ]
  },
  {
   "cell_type": "code",
   "execution_count": 146,
   "metadata": {},
   "outputs": [
    {
     "name": "stdout",
     "output_type": "stream",
     "text": [
      "<class 'pandas.core.frame.DataFrame'>\n",
      "RangeIndex: 79330 entries, 0 to 79329\n",
      "Data columns (total 18 columns):\n",
      " #   Column                          Non-Null Count  Dtype  \n",
      "---  ------                          --------------  -----  \n",
      " 0   lead_time                       79330 non-null  int64  \n",
      " 1   stays_in_week_nights            79330 non-null  int64  \n",
      " 2   adults                          79330 non-null  int64  \n",
      " 3   children                        79330 non-null  float64\n",
      " 4   babies                          79330 non-null  int64  \n",
      " 5   meal                            79330 non-null  int64  \n",
      " 6   market_segment                  79330 non-null  int64  \n",
      " 7   distribution_channel            79330 non-null  int64  \n",
      " 8   is_repeated_guest               79330 non-null  int64  \n",
      " 9   previous_cancellations          79330 non-null  int64  \n",
      " 10  previous_bookings_not_canceled  79330 non-null  int64  \n",
      " 11  booking_changes                 79330 non-null  int64  \n",
      " 12  deposit_type                    79330 non-null  int64  \n",
      " 13  days_in_waiting_list            79330 non-null  int64  \n",
      " 14  customer_type                   79330 non-null  int64  \n",
      " 15  required_car_parking_spaces     79330 non-null  int64  \n",
      " 16  total_of_special_requests       79330 non-null  int64  \n",
      " 17  different_assigned_room         79330 non-null  int64  \n",
      "dtypes: float64(1), int64(17)\n",
      "memory usage: 10.9 MB\n"
     ]
    }
   ],
   "source": [
    "X=bookings.iloc[:, [1,2,3,4,5,6,7,8,9,10,11,12,13,14,15,16,17,18]] # creating data set with predictor variables only \n",
    "X.info()"
   ]
  },
  {
   "cell_type": "code",
   "execution_count": 147,
   "metadata": {},
   "outputs": [],
   "source": [
    "#df = df.astype({\"Column 1\": float, \"Column 2\": int})\n",
    "#X=X.astype({\"adr\": int})"
   ]
  },
  {
   "cell_type": "code",
   "execution_count": 148,
   "metadata": {},
   "outputs": [
    {
     "name": "stdout",
     "output_type": "stream",
     "text": [
      "<class 'pandas.core.frame.DataFrame'>\n",
      "RangeIndex: 79330 entries, 0 to 79329\n",
      "Data columns (total 1 columns):\n",
      " #   Column       Non-Null Count  Dtype\n",
      "---  ------       --------------  -----\n",
      " 0   is_canceled  79330 non-null  int64\n",
      "dtypes: int64(1)\n",
      "memory usage: 619.9 KB\n"
     ]
    }
   ],
   "source": [
    "Y = bookings.iloc[:,[0]] # data set with dependent variable only \n",
    "Y.info()"
   ]
  },
  {
   "cell_type": "code",
   "execution_count": 149,
   "metadata": {},
   "outputs": [],
   "source": [
    "X_train, X_test, Y_train, Y_test = train_test_split(X, Y, test_size=0.3) \n",
    "# splitting data set into training and valication sets in 70-30 "
   ]
  },
  {
   "cell_type": "code",
   "execution_count": 150,
   "metadata": {},
   "outputs": [
    {
     "data": {
      "text/plain": [
       "0    32388\n",
       "1    23143\n",
       "Name: is_canceled, dtype: int64"
      ]
     },
     "execution_count": 150,
     "metadata": {},
     "output_type": "execute_result"
    }
   ],
   "source": [
    "Y_train['is_canceled'].value_counts() # checking for cancelled data count in training set "
   ]
  },
  {
   "cell_type": "code",
   "execution_count": 151,
   "metadata": {},
   "outputs": [
    {
     "data": {
      "text/plain": [
       "0    13840\n",
       "1     9959\n",
       "Name: is_canceled, dtype: int64"
      ]
     },
     "execution_count": 151,
     "metadata": {},
     "output_type": "execute_result"
    }
   ],
   "source": [
    "Y_test['is_canceled'].value_counts() # checking for cancelled data count in test set "
   ]
  },
  {
   "cell_type": "code",
   "execution_count": 157,
   "metadata": {},
   "outputs": [
    {
     "data": {
      "text/plain": [
       "XGBClassifier(base_score=0.5, booster='gbtree', colsample_bylevel=1,\n",
       "              colsample_bynode=1, colsample_bytree=1, eval_metric='error',\n",
       "              gamma=0, gpu_id=-1, importance_type='gain',\n",
       "              interaction_constraints='', learning_rate=0.300000012,\n",
       "              max_delta_step=0, max_depth=6, min_child_weight=1, missing=nan,\n",
       "              monotone_constraints='()', n_estimators=100, n_jobs=4,\n",
       "              num_parallel_tree=1, random_state=0, reg_alpha=0, reg_lambda=1,\n",
       "              scale_pos_weight=1, subsample=1, tree_method='exact',\n",
       "              use_label_encoder=False, validate_parameters=1, verbosity=None)"
      ]
     },
     "execution_count": 157,
     "metadata": {},
     "output_type": "execute_result"
    }
   ],
   "source": [
    "import numpy as np\n",
    "XGBmodel = XGBClassifier(eval_metric='error',use_label_encoder=False)\n",
    "XGBmodel.fit(X_train, np.ravel(Y_train)) \n",
    "# fit of XGBmodel to the training set with descriptor variable and dependent variable"
   ]
  },
  {
   "cell_type": "code",
   "execution_count": 158,
   "metadata": {},
   "outputs": [],
   "source": [
    "Y_pred = XGBmodel.predict(X_test) # Predictions for test data set\n",
    "predictions = [round(value) for value in Y_pred]"
   ]
  },
  {
   "cell_type": "code",
   "execution_count": 159,
   "metadata": {},
   "outputs": [
    {
     "name": "stdout",
     "output_type": "stream",
     "text": [
      "Accuracy: 83.54%\n"
     ]
    }
   ],
   "source": [
    "accuracy = accuracy_score(Y_test, predictions) # accuracy metrics for the model fit \n",
    "print(\"Accuracy: %.2f%%\" % (accuracy * 100.0))"
   ]
  },
  {
   "cell_type": "code",
   "execution_count": 160,
   "metadata": {},
   "outputs": [
    {
     "name": "stdout",
     "output_type": "stream",
     "text": [
      "[[12654  1186]\n",
      " [ 2731  7228]]\n"
     ]
    }
   ],
   "source": [
    "from sklearn.model_selection import cross_val_score\n",
    "from sklearn.metrics import classification_report, confusion_matrix\n",
    "print(confusion_matrix(Y_test, Y_pred)) # confusion matrix of the model predictions and actuals "
   ]
  },
  {
   "cell_type": "code",
   "execution_count": 161,
   "metadata": {},
   "outputs": [
    {
     "name": "stdout",
     "output_type": "stream",
     "text": [
      "              precision    recall  f1-score   support\n",
      "\n",
      "           0       0.82      0.91      0.87     13840\n",
      "           1       0.86      0.73      0.79      9959\n",
      "\n",
      "    accuracy                           0.84     23799\n",
      "   macro avg       0.84      0.82      0.83     23799\n",
      "weighted avg       0.84      0.84      0.83     23799\n",
      "\n"
     ]
    }
   ],
   "source": [
    "print(classification_report(Y_test, Y_pred)) \n",
    "# classification report of the predictions vs actuals for both class types"
   ]
  },
  {
   "cell_type": "code",
   "execution_count": 162,
   "metadata": {},
   "outputs": [
    {
     "name": "stdout",
     "output_type": "stream",
     "text": [
      "Mean AUC Score - XGBoost:  0.8565685112656499\n"
     ]
    }
   ],
   "source": [
    "xgb_score = cross_val_score(XGBmodel, X, np.ravel(Y), cv=10, scoring='roc_auc')\n",
    "print(\"Mean AUC Score - XGBoost: \", xgb_score.mean())\n",
    "# AUC score of the model "
   ]
  },
  {
   "cell_type": "code",
   "execution_count": 165,
   "metadata": {},
   "outputs": [
    {
     "data": {
      "text/plain": [
       "0    15385\n",
       "1     8414\n",
       "Name: canceled, dtype: int64"
      ]
     },
     "execution_count": 165,
     "metadata": {},
     "output_type": "execute_result"
    }
   ],
   "source": [
    "df = pd.DataFrame(data=Y_pred, columns=[\"canceled\"])\n",
    "df['canceled'].value_counts()\n",
    "# checking counts of cancellations in the predicted data set"
   ]
  },
  {
   "cell_type": "code",
   "execution_count": 166,
   "metadata": {},
   "outputs": [
    {
     "data": {
      "image/png": "[encoded data removed]",
      "text/plain": [
       "<Figure size 504x504 with 1 Axes>"
      ]
     },
     "metadata": {},
     "output_type": "display_data"
    }
   ],
   "source": [
    "import matplotlib.pyplot as plt\n",
    "piedata = df['canceled'].value_counts()\n",
    "my_colors = ['lightblue','lavender'] # custom colors\n",
    "my_explode = (0.1,0) # custom effects\n",
    "plt.figure(figsize=(7,7)) #custom size for the pie chart\n",
    "piedata.plot.pie(autopct=\"%.1f%%\",colors=my_colors,explode=my_explode,shadow=True) #pie chart creation\n",
    "plt.title(\"Cancellation rate of the predictions by XGBoost model for H2\")\n",
    "plt.show() # displaying only chart without the extra information\n",
    "#benchmark\n"
   ]
  },
  {
   "cell_type": "code",
   "execution_count": 167,
   "metadata": {},
   "outputs": [
    {
     "name": "stdout",
     "output_type": "stream",
     "text": [
      "<class 'pandas.core.frame.DataFrame'>\n",
      "RangeIndex: 79330 entries, 0 to 79329\n",
      "Data columns (total 18 columns):\n",
      " #   Column                          Non-Null Count  Dtype  \n",
      "---  ------                          --------------  -----  \n",
      " 0   lead_time                       79330 non-null  int64  \n",
      " 1   stays_in_week_nights            79330 non-null  int64  \n",
      " 2   adults                          79330 non-null  int64  \n",
      " 3   children                        79330 non-null  float64\n",
      " 4   babies                          79330 non-null  int64  \n",
      " 5   meal                            79330 non-null  int64  \n",
      " 6   market_segment                  79330 non-null  int64  \n",
      " 7   distribution_channel            79330 non-null  int64  \n",
      " 8   is_repeated_guest               79330 non-null  int64  \n",
      " 9   previous_cancellations          79330 non-null  int64  \n",
      " 10  previous_bookings_not_canceled  79330 non-null  int64  \n",
      " 11  booking_changes                 79330 non-null  int64  \n",
      " 12  deposit_type                    79330 non-null  int64  \n",
      " 13  days_in_waiting_list            79330 non-null  int64  \n",
      " 14  customer_type                   79330 non-null  int64  \n",
      " 15  required_car_parking_spaces     79330 non-null  int64  \n",
      " 16  total_of_special_requests       79330 non-null  int64  \n",
      " 17  different_assigned_room         79330 non-null  int64  \n",
      "dtypes: float64(1), int64(17)\n",
      "memory usage: 10.9 MB\n"
     ]
    }
   ],
   "source": [
    "whatif_leadtime = X.copy() # copy of original data set with features selected for model \n",
    "whatif_leadtime.loc[whatif_leadtime.lead_time !=569874574,\"lead_time\"] = 10 \n",
    "# replace all lead times in the data set with 10 \n",
    "whatif_leadtime.info() # checking for data types in the data set"
   ]
  },
  {
   "cell_type": "code",
   "execution_count": 168,
   "metadata": {},
   "outputs": [
    {
     "data": {
      "text/plain": [
       "10    79330\n",
       "Name: lead_time, dtype: int64"
      ]
     },
     "execution_count": 168,
     "metadata": {},
     "output_type": "execute_result"
    }
   ],
   "source": [
    "whatif_leadtime['lead_time'].value_counts() # checking if entire data set has lead time as desired "
   ]
  },
  {
   "cell_type": "code",
   "execution_count": 169,
   "metadata": {},
   "outputs": [],
   "source": [
    "LT_pred = XGBmodel.predict(whatif_leadtime) # predictions for what-if data with lead time = 10"
   ]
  },
  {
   "cell_type": "code",
   "execution_count": 170,
   "metadata": {},
   "outputs": [
    {
     "data": {
      "text/plain": [
       "0    54986\n",
       "1    24344\n",
       "Name: Is_Canceled, dtype: int64"
      ]
     },
     "execution_count": 170,
     "metadata": {},
     "output_type": "execute_result"
    }
   ],
   "source": [
    "df = pd.DataFrame(data=LT_pred, columns=[\"Is_Canceled\"]) # converting and labeling predictions \n",
    "df['Is_Canceled'].value_counts()"
   ]
  },
  {
   "cell_type": "code",
   "execution_count": 171,
   "metadata": {},
   "outputs": [
    {
     "data": {
      "image/png": "[encoded data removed]",
      "text/plain": [
       "<Figure size 504x504 with 1 Axes>"
      ]
     },
     "metadata": {},
     "output_type": "display_data"
    }
   ],
   "source": [
    "piedata = df['Is_Canceled'].value_counts()  # cancellation rate for pred based on test data set\n",
    "my_colors = ['lightblue','lavender'] # custom colors\n",
    "my_explode = (0.1,0) # custom effects\n",
    "plt.figure(figsize=(7,7)) #custom size for the pie chart\n",
    "piedata.plot.pie(autopct=\"%.1f%%\",colors=my_colors,explode=my_explode,shadow=True) #pie chart creation\n",
    "plt.title(\"Cancellation rate for H2, XGBoost classifier lead time =10 \")\n",
    "plt.show() # displaying only chart without the extra information"
   ]
  },
  {
   "cell_type": "code",
   "execution_count": 172,
   "metadata": {},
   "outputs": [
    {
     "name": "stdout",
     "output_type": "stream",
     "text": [
      "Accuracy: 80.47%\n"
     ]
    }
   ],
   "source": [
    "from sklearn import metrics\n",
    "accuracy = metrics.accuracy_score(Y, LT_pred)\n",
    "print(\"Accuracy: %.2f%%\" % (accuracy * 100.0))"
   ]
  },
  {
   "cell_type": "code",
   "execution_count": 173,
   "metadata": {},
   "outputs": [
    {
     "data": {
      "text/plain": [
       "4    68945\n",
       "2     6780\n",
       "1     3408\n",
       "3      193\n",
       "5        4\n",
       "Name: distribution_channel, dtype: int64"
      ]
     },
     "execution_count": 173,
     "metadata": {},
     "output_type": "execute_result"
    }
   ],
   "source": [
    "whatif_channel = X.copy() # creating fresh copy to do what if analysis based on distribution channel\n",
    "whatif_channel['distribution_channel'].value_counts()"
   ]
  },
  {
   "cell_type": "code",
   "execution_count": 174,
   "metadata": {},
   "outputs": [
    {
     "data": {
      "text/plain": [
       "2    79330\n",
       "Name: distribution_channel, dtype: int64"
      ]
     },
     "execution_count": 174,
     "metadata": {},
     "output_type": "execute_result"
    }
   ],
   "source": [
    "whatif_channel.loc[whatif_channel.distribution_channel==1,\"distribution_channel\"] = 2\n",
    "whatif_channel.loc[whatif_channel.distribution_channel==2,\"distribution_channel\"] = 2\n",
    "whatif_channel.loc[whatif_channel.distribution_channel==3,\"distribution_channel\"] = 2\n",
    "whatif_channel.loc[whatif_channel.distribution_channel==4,\"distribution_channel\"] = 2\n",
    "whatif_channel.loc[whatif_channel.distribution_channel==5,\"distribution_channel\"] = 2\n",
    "#replacing all distribution channel data point with 2, which corresponds to direct web \n",
    "whatif_channel['distribution_channel'].value_counts()"
   ]
  },
  {
   "cell_type": "code",
   "execution_count": 175,
   "metadata": {},
   "outputs": [
    {
     "name": "stdout",
     "output_type": "stream",
     "text": [
      "<class 'pandas.core.frame.DataFrame'>\n",
      "RangeIndex: 79330 entries, 0 to 79329\n",
      "Data columns (total 18 columns):\n",
      " #   Column                          Non-Null Count  Dtype  \n",
      "---  ------                          --------------  -----  \n",
      " 0   lead_time                       79330 non-null  int64  \n",
      " 1   stays_in_week_nights            79330 non-null  int64  \n",
      " 2   adults                          79330 non-null  int64  \n",
      " 3   children                        79330 non-null  float64\n",
      " 4   babies                          79330 non-null  int64  \n",
      " 5   meal                            79330 non-null  int64  \n",
      " 6   market_segment                  79330 non-null  int64  \n",
      " 7   distribution_channel            79330 non-null  int64  \n",
      " 8   is_repeated_guest               79330 non-null  int64  \n",
      " 9   previous_cancellations          79330 non-null  int64  \n",
      " 10  previous_bookings_not_canceled  79330 non-null  int64  \n",
      " 11  booking_changes                 79330 non-null  int64  \n",
      " 12  deposit_type                    79330 non-null  int64  \n",
      " 13  days_in_waiting_list            79330 non-null  int64  \n",
      " 14  customer_type                   79330 non-null  int64  \n",
      " 15  required_car_parking_spaces     79330 non-null  int64  \n",
      " 16  total_of_special_requests       79330 non-null  int64  \n",
      " 17  different_assigned_room         79330 non-null  int64  \n",
      "dtypes: float64(1), int64(17)\n",
      "memory usage: 10.9 MB\n"
     ]
    }
   ],
   "source": [
    "#whatif_channel=whatif_channel.astype({\"distribution_channel\": int})\n",
    "whatif_leadtime.info()"
   ]
  },
  {
   "cell_type": "code",
   "execution_count": 176,
   "metadata": {},
   "outputs": [
    {
     "data": {
      "image/png": "[encoded data removed]",
      "text/plain": [
       "<Figure size 504x504 with 1 Axes>"
      ]
     },
     "metadata": {},
     "output_type": "display_data"
    }
   ],
   "source": [
    "DC_pred = XGBmodel.predict(whatif_channel)\n",
    "df = pd.DataFrame(data=DC_pred, columns=[\"Is_Canceled\"])\n",
    "df['Is_Canceled'].value_counts()\n",
    "piedata = df['Is_Canceled'].value_counts()  # cancellation rate for pred based on test data set\n",
    "my_colors = ['lightblue','lavender'] # custom colors\n",
    "my_explode = (0.1,0) # custom effects\n",
    "plt.figure(figsize=(7,7)) #custom size for the pie chart\n",
    "piedata.plot.pie(autopct=\"%.1f%%\",colors=my_colors,explode=my_explode,shadow=True) #pie chart creation\n",
    "plt.title(\"Cancellation rate for H2, XGBoost classifier for distribution channel = Direct\")\n",
    "plt.show() # displaying only chart without the extra information"
   ]
  },
  {
   "cell_type": "code",
   "execution_count": 177,
   "metadata": {},
   "outputs": [
    {
     "name": "stdout",
     "output_type": "stream",
     "text": [
      "Accuracy: 81.56%\n"
     ]
    }
   ],
   "source": [
    "accuracy = metrics.accuracy_score(Y, DC_pred)\n",
    "print(\"Accuracy: %.2f%%\" % (accuracy * 100.0))"
   ]
  },
  {
   "cell_type": "code",
   "execution_count": 178,
   "metadata": {},
   "outputs": [
    {
     "data": {
      "text/plain": [
       "1    66442\n",
       "2    12868\n",
       "3       20\n",
       "Name: deposit_type, dtype: int64"
      ]
     },
     "execution_count": 178,
     "metadata": {},
     "output_type": "execute_result"
    }
   ],
   "source": [
    "whatif_paid = X.copy()\n",
    "whatif_paid['deposit_type'].value_counts()"
   ]
  },
  {
   "cell_type": "code",
   "execution_count": 179,
   "metadata": {},
   "outputs": [
    {
     "data": {
      "text/plain": [
       "1    79330\n",
       "Name: deposit_type, dtype: int64"
      ]
     },
     "execution_count": 179,
     "metadata": {},
     "output_type": "execute_result"
    }
   ],
   "source": [
    "\n",
    "whatif_paid.loc[whatif_paid.deposit_type==1,\"deposit_type\"] = 1\n",
    "whatif_paid.loc[whatif_paid.deposit_type==2,\"deposit_type\"] = 1\n",
    "whatif_paid.loc[whatif_paid.deposit_type==3,\"deposit_type\"] = 1\n",
    "whatif_paid['deposit_type'].value_counts()\n",
    "# replacing all deposit type data points with 1 which corresponds to no-deposit"
   ]
  },
  {
   "cell_type": "code",
   "execution_count": 180,
   "metadata": {},
   "outputs": [
    {
     "name": "stdout",
     "output_type": "stream",
     "text": [
      "<class 'pandas.core.frame.DataFrame'>\n",
      "RangeIndex: 79330 entries, 0 to 79329\n",
      "Data columns (total 18 columns):\n",
      " #   Column                          Non-Null Count  Dtype  \n",
      "---  ------                          --------------  -----  \n",
      " 0   lead_time                       79330 non-null  int64  \n",
      " 1   stays_in_week_nights            79330 non-null  int64  \n",
      " 2   adults                          79330 non-null  int64  \n",
      " 3   children                        79330 non-null  float64\n",
      " 4   babies                          79330 non-null  int64  \n",
      " 5   meal                            79330 non-null  int64  \n",
      " 6   market_segment                  79330 non-null  int64  \n",
      " 7   distribution_channel            79330 non-null  int64  \n",
      " 8   is_repeated_guest               79330 non-null  int64  \n",
      " 9   previous_cancellations          79330 non-null  int64  \n",
      " 10  previous_bookings_not_canceled  79330 non-null  int64  \n",
      " 11  booking_changes                 79330 non-null  int64  \n",
      " 12  deposit_type                    79330 non-null  int64  \n",
      " 13  days_in_waiting_list            79330 non-null  int64  \n",
      " 14  customer_type                   79330 non-null  int64  \n",
      " 15  required_car_parking_spaces     79330 non-null  int64  \n",
      " 16  total_of_special_requests       79330 non-null  int64  \n",
      " 17  different_assigned_room         79330 non-null  int64  \n",
      "dtypes: float64(1), int64(17)\n",
      "memory usage: 10.9 MB\n"
     ]
    }
   ],
   "source": [
    "#whatif_paid=whatif_paid.astype({\"deposit_type\": int})\n",
    "whatif_paid.info()"
   ]
  },
  {
   "cell_type": "code",
   "execution_count": 181,
   "metadata": {},
   "outputs": [
    {
     "data": {
      "image/png": "[encoded data removed]",
      "text/plain": [
       "<Figure size 504x504 with 1 Axes>"
      ]
     },
     "metadata": {},
     "output_type": "display_data"
    }
   ],
   "source": [
    "DT_pred = XGBmodel.predict(whatif_paid)\n",
    "df = pd.DataFrame(data=DT_pred, columns=[\"Is_Canceled\"])\n",
    "df['Is_Canceled'].value_counts()\n",
    "piedata = df['Is_Canceled'].value_counts()  # cancellation rate for pred based on test data set\n",
    "my_colors = ['lightblue','lavender'] # custom colors\n",
    "my_explode = (0.1,0) # custom effects\n",
    "plt.figure(figsize=(7,7)) #custom size for the pie chart\n",
    "piedata.plot.pie(autopct=\"%.1f%%\",colors=my_colors,explode=my_explode,shadow=True) #pie chart creation\n",
    "plt.title(\"Cancellation rate for H2, rXGBoost classifier for deposit type = No Deposit\")\n",
    "plt.show() # displaying only chart without the extra information"
   ]
  },
  {
   "cell_type": "code",
   "execution_count": 182,
   "metadata": {},
   "outputs": [
    {
     "name": "stdout",
     "output_type": "stream",
     "text": [
      "Accuracy: 76.42%\n"
     ]
    }
   ],
   "source": [
    "accuracy = metrics.accuracy_score(Y, DT_pred)\n",
    "print(\"Accuracy: %.2f%%\" % (accuracy * 100.0))"
   ]
  },
  {
   "cell_type": "code",
   "execution_count": 183,
   "metadata": {},
   "outputs": [
    {
     "data": {
      "text/plain": [
       "0    77298\n",
       "1     2032\n",
       "Name: is_repeated_guest, dtype: int64"
      ]
     },
     "execution_count": 183,
     "metadata": {},
     "output_type": "execute_result"
    }
   ],
   "source": [
    "whatif_guest = X.copy()\n",
    "whatif_guest['is_repeated_guest'].value_counts()"
   ]
  },
  {
   "cell_type": "code",
   "execution_count": 184,
   "metadata": {},
   "outputs": [
    {
     "data": {
      "text/plain": [
       "0    79330\n",
       "Name: is_repeated_guest, dtype: int64"
      ]
     },
     "execution_count": 184,
     "metadata": {},
     "output_type": "execute_result"
    }
   ],
   "source": [
    "whatif_guest.loc[whatif_guest.is_repeated_guest==1,\"is_repeated_guest\"] = 0\n",
    "whatif_guest['is_repeated_guest'].value_counts()"
   ]
  },
  {
   "cell_type": "code",
   "execution_count": 185,
   "metadata": {},
   "outputs": [
    {
     "name": "stdout",
     "output_type": "stream",
     "text": [
      "<class 'pandas.core.frame.DataFrame'>\n",
      "RangeIndex: 79330 entries, 0 to 79329\n",
      "Data columns (total 18 columns):\n",
      " #   Column                          Non-Null Count  Dtype  \n",
      "---  ------                          --------------  -----  \n",
      " 0   lead_time                       79330 non-null  int64  \n",
      " 1   stays_in_week_nights            79330 non-null  int64  \n",
      " 2   adults                          79330 non-null  int64  \n",
      " 3   children                        79330 non-null  float64\n",
      " 4   babies                          79330 non-null  int64  \n",
      " 5   meal                            79330 non-null  int64  \n",
      " 6   market_segment                  79330 non-null  int64  \n",
      " 7   distribution_channel            79330 non-null  int64  \n",
      " 8   is_repeated_guest               79330 non-null  int64  \n",
      " 9   previous_cancellations          79330 non-null  int64  \n",
      " 10  previous_bookings_not_canceled  79330 non-null  int64  \n",
      " 11  booking_changes                 79330 non-null  int64  \n",
      " 12  deposit_type                    79330 non-null  int64  \n",
      " 13  days_in_waiting_list            79330 non-null  int64  \n",
      " 14  customer_type                   79330 non-null  int64  \n",
      " 15  required_car_parking_spaces     79330 non-null  int64  \n",
      " 16  total_of_special_requests       79330 non-null  int64  \n",
      " 17  different_assigned_room         79330 non-null  int64  \n",
      "dtypes: float64(1), int64(17)\n",
      "memory usage: 10.9 MB\n"
     ]
    }
   ],
   "source": [
    "whatif_guest.info()"
   ]
  },
  {
   "cell_type": "code",
   "execution_count": 186,
   "metadata": {},
   "outputs": [
    {
     "data": {
      "image/png": "[encoded data removed]",
      "text/plain": [
       "<Figure size 504x504 with 1 Axes>"
      ]
     },
     "metadata": {},
     "output_type": "display_data"
    }
   ],
   "source": [
    "guest_pred = XGBmodel.predict(whatif_guest)\n",
    "df = pd.DataFrame(data=guest_pred, columns=[\"Is_Canceled\"])\n",
    "df['Is_Canceled'].value_counts()\n",
    "piedata = df['Is_Canceled'].value_counts()  # cancellation rate for pred based on test data set\n",
    "my_colors = ['lightblue','lavender'] # custom colors\n",
    "my_explode = (0.1,0) # custom effects\n",
    "plt.figure(figsize=(7,7)) #custom size for the pie chart\n",
    "piedata.plot.pie(autopct=\"%.1f%%\",colors=my_colors,explode=my_explode,shadow=True) #pie chart creation\n",
    "plt.title(\"Cancellation rate for H2, XGBoost classifier for all repeat guests\")\n",
    "plt.show() # displaying only chart without the extra information"
   ]
  },
  {
   "cell_type": "code",
   "execution_count": 187,
   "metadata": {},
   "outputs": [
    {
     "name": "stdout",
     "output_type": "stream",
     "text": [
      "Accuracy: 84.13%\n"
     ]
    }
   ],
   "source": [
    "accuracy = metrics.accuracy_score(Y, guest_pred)\n",
    "print(\"Accuracy: %.2f%%\" % (accuracy * 100.0))"
   ]
  },
  {
   "cell_type": "code",
   "execution_count": 188,
   "metadata": {},
   "outputs": [
    {
     "data": {
      "text/plain": [
       "0     73941\n",
       "1      5155\n",
       "2        72\n",
       "3        51\n",
       "11       35\n",
       "4        25\n",
       "6        22\n",
       "5        16\n",
       "13       12\n",
       "21        1\n",
       "Name: previous_cancellations, dtype: int64"
      ]
     },
     "execution_count": 188,
     "metadata": {},
     "output_type": "execute_result"
    }
   ],
   "source": [
    "whatif_can = X.copy()\n",
    "whatif_can['previous_cancellations'].value_counts()"
   ]
  },
  {
   "cell_type": "code",
   "execution_count": 189,
   "metadata": {},
   "outputs": [
    {
     "data": {
      "text/plain": [
       "0    79330\n",
       "Name: previous_cancellations, dtype: int64"
      ]
     },
     "execution_count": 189,
     "metadata": {},
     "output_type": "execute_result"
    }
   ],
   "source": [
    "whatif_can.loc[whatif_can.previous_cancellations!=0,\"previous_cancellations\"] = 0\n",
    "whatif_can['previous_cancellations'].value_counts()\n",
    "# replacing number of previous cancellations as zero"
   ]
  },
  {
   "cell_type": "code",
   "execution_count": 190,
   "metadata": {},
   "outputs": [
    {
     "data": {
      "image/png": "[encoded data removed]",
      "text/plain": [
       "<Figure size 504x504 with 1 Axes>"
      ]
     },
     "metadata": {},
     "output_type": "display_data"
    }
   ],
   "source": [
    "prevcan_pred = XGBmodel.predict(whatif_can)\n",
    "df = pd.DataFrame(data=prevcan_pred, columns=[\"Is_Canceled\"])\n",
    "df['Is_Canceled'].value_counts()\n",
    "piedata = df['Is_Canceled'].value_counts()  # cancellation rate for pred based on test data set\n",
    "my_colors = ['lightblue','lavender'] # custom colors\n",
    "my_explode = (0.1,0) # custom effects\n",
    "plt.figure(figsize=(7,7)) #custom size for the pie chart\n",
    "piedata.plot.pie(autopct=\"%.1f%%\",colors=my_colors,explode=my_explode,shadow=True) #pie chart creation\n",
    "plt.title(\"Cancellation rate for H2, XGBoost classifier for guests without previous cancellations\")\n",
    "plt.show() # displaying only chart without the extra information"
   ]
  },
  {
   "cell_type": "code",
   "execution_count": 191,
   "metadata": {},
   "outputs": [
    {
     "name": "stdout",
     "output_type": "stream",
     "text": [
      "Accuracy: 82.51%\n"
     ]
    }
   ],
   "source": [
    "accuracy = metrics.accuracy_score(Y, prevcan_pred)\n",
    "print(\"Accuracy: %.2f%%\" % (accuracy * 100.0))"
   ]
  },
  {
   "cell_type": "code",
   "execution_count": 192,
   "metadata": {},
   "outputs": [
    {
     "data": {
      "text/plain": [
       "4    68945\n",
       "2     6780\n",
       "1     3408\n",
       "3      193\n",
       "5        4\n",
       "Name: distribution_channel, dtype: int64"
      ]
     },
     "execution_count": 192,
     "metadata": {},
     "output_type": "execute_result"
    }
   ],
   "source": [
    "whatif_channel_corp = X.copy()\n",
    "whatif_channel_corp['distribution_channel'].value_counts()"
   ]
  },
  {
   "cell_type": "code",
   "execution_count": 193,
   "metadata": {},
   "outputs": [
    {
     "data": {
      "text/plain": [
       "1    79330\n",
       "Name: distribution_channel, dtype: int64"
      ]
     },
     "execution_count": 193,
     "metadata": {},
     "output_type": "execute_result"
    }
   ],
   "source": [
    "whatif_channel_corp.loc[whatif_channel_corp.distribution_channel==1,\"distribution_channel\"] = 1\n",
    "whatif_channel_corp.loc[whatif_channel_corp.distribution_channel==2,\"distribution_channel\"] = 1\n",
    "whatif_channel_corp.loc[whatif_channel_corp.distribution_channel==3,\"distribution_channel\"] = 1\n",
    "whatif_channel_corp.loc[whatif_channel_corp.distribution_channel==4,\"distribution_channel\"] = 1\n",
    "whatif_channel_corp.loc[whatif_channel_corp.distribution_channel==5,\"distribution_channel\"] = 1\n",
    "# replace all distribution channel with 1, which corresponds to corporate\n",
    "whatif_channel_corp['distribution_channel'].value_counts()"
   ]
  },
  {
   "cell_type": "code",
   "execution_count": 194,
   "metadata": {},
   "outputs": [
    {
     "data": {
      "image/png": "[encoded data removed]",
      "text/plain": [
       "<Figure size 504x504 with 1 Axes>"
      ]
     },
     "metadata": {},
     "output_type": "display_data"
    }
   ],
   "source": [
    "DC_corp_pred = XGBmodel.predict(whatif_channel_corp)\n",
    "df = pd.DataFrame(data=DC_corp_pred, columns=[\"Is_Canceled\"])\n",
    "df['Is_Canceled'].value_counts()\n",
    "piedata = df['Is_Canceled'].value_counts()  # cancellation rate for pred based on test data set\n",
    "my_colors = ['lightblue','lavender'] # custom colors\n",
    "my_explode = (0.1,0) # custom effects\n",
    "plt.figure(figsize=(7,7)) #custom size for the pie chart\n",
    "piedata.plot.pie(autopct=\"%.1f%%\",colors=my_colors,explode=my_explode,shadow=True) #pie chart creation\n",
    "plt.title(\"Cancellation rate for H2, XGBoost classifier for distribution channel = corporate\")\n",
    "plt.show() # displaying only chart without the extra information"
   ]
  },
  {
   "cell_type": "code",
   "execution_count": 195,
   "metadata": {},
   "outputs": [
    {
     "name": "stdout",
     "output_type": "stream",
     "text": [
      "Accuracy: 80.08%\n"
     ]
    }
   ],
   "source": [
    "accuracy = metrics.accuracy_score(Y, DC_corp_pred)\n",
    "print(\"Accuracy: %.2f%%\" % (accuracy * 100.0))"
   ]
  },
  {
   "cell_type": "code",
   "execution_count": 196,
   "metadata": {},
   "outputs": [
    {
     "data": {
      "text/plain": [
       "0    47957\n",
       "1    21420\n",
       "2     8142\n",
       "3     1587\n",
       "4      198\n",
       "5       26\n",
       "Name: total_of_special_requests, dtype: int64"
      ]
     },
     "execution_count": 196,
     "metadata": {},
     "output_type": "execute_result"
    }
   ],
   "source": [
    "whatif_spl = X.copy()\n",
    "whatif_spl['total_of_special_requests'].value_counts()"
   ]
  },
  {
   "cell_type": "code",
   "execution_count": 197,
   "metadata": {},
   "outputs": [
    {
     "data": {
      "text/plain": [
       "5    79330\n",
       "Name: total_of_special_requests, dtype: int64"
      ]
     },
     "execution_count": 197,
     "metadata": {},
     "output_type": "execute_result"
    }
   ],
   "source": [
    "whatif_spl.loc[whatif_spl.total_of_special_requests==1,\"total_of_special_requests\"] = 5\n",
    "whatif_spl.loc[whatif_spl.total_of_special_requests==2,\"total_of_special_requests\"] = 5\n",
    "whatif_spl.loc[whatif_spl.total_of_special_requests==3,\"total_of_special_requests\"] = 5\n",
    "whatif_spl.loc[whatif_spl.total_of_special_requests==4,\"total_of_special_requests\"] = 5\n",
    "whatif_spl.loc[whatif_spl.total_of_special_requests==5,\"total_of_special_requests\"] = 5\n",
    "whatif_spl.loc[whatif_spl.total_of_special_requests==0,\"total_of_special_requests\"] = 5\n",
    "# replacing all data points with special requests = 5\n",
    "whatif_spl['total_of_special_requests'].value_counts()"
   ]
  },
  {
   "cell_type": "code",
   "execution_count": 198,
   "metadata": {},
   "outputs": [
    {
     "data": {
      "image/png": "[encoded data removed]",
      "text/plain": [
       "<Figure size 504x504 with 1 Axes>"
      ]
     },
     "metadata": {},
     "output_type": "display_data"
    }
   ],
   "source": [
    "spl_pred = XGBmodel.predict(whatif_spl)\n",
    "df = pd.DataFrame(data=spl_pred, columns=[\"Is_Canceled\"])\n",
    "df['Is_Canceled'].value_counts()\n",
    "piedata = df['Is_Canceled'].value_counts()  # cancellation rate for pred based on test data set\n",
    "my_colors = ['lightblue','lavender'] # custom colors\n",
    "my_explode = (0.1,0) # custom effects\n",
    "plt.figure(figsize=(7,7)) #custom size for the pie chart\n",
    "piedata.plot.pie(autopct=\"%.1f%%\",colors=my_colors,explode=my_explode,shadow=True) #pie chart creation\n",
    "plt.title(\"Cancellation rate for H2, XGBoost classifier for all guests with special requests\")\n",
    "plt.show() # displaying only chart without the extra information"
   ]
  },
  {
   "cell_type": "code",
   "execution_count": 199,
   "metadata": {},
   "outputs": [
    {
     "name": "stdout",
     "output_type": "stream",
     "text": [
      "Accuracy: 76.71%\n"
     ]
    }
   ],
   "source": [
    "accuracy = metrics.accuracy_score(Y, spl_pred)\n",
    "print(\"Accuracy: %.2f%%\" % (accuracy * 100.0))"
   ]
  },
  {
   "cell_type": "code",
   "execution_count": 200,
   "metadata": {},
   "outputs": [
    {
     "data": {
      "text/plain": [
       "0    77404\n",
       "1     1921\n",
       "2        3\n",
       "3        2\n",
       "Name: required_car_parking_spaces, dtype: int64"
      ]
     },
     "execution_count": 200,
     "metadata": {},
     "output_type": "execute_result"
    }
   ],
   "source": [
    "whatif_car = X.copy()\n",
    "whatif_car['required_car_parking_spaces'].value_counts()"
   ]
  },
  {
   "cell_type": "code",
   "execution_count": 201,
   "metadata": {},
   "outputs": [
    {
     "data": {
      "text/plain": [
       "1    79330\n",
       "Name: required_car_parking_spaces, dtype: int64"
      ]
     },
     "execution_count": 201,
     "metadata": {},
     "output_type": "execute_result"
    }
   ],
   "source": [
    "whatif_car.loc[whatif_car.required_car_parking_spaces==0,\"required_car_parking_spaces\"] = 1\n",
    "whatif_car.loc[whatif_car.required_car_parking_spaces==2,\"required_car_parking_spaces\"] = 1\n",
    "whatif_car.loc[whatif_car.required_car_parking_spaces==3,\"required_car_parking_spaces\"] = 1\n",
    "#replacing all car parking requests with 1\n",
    "whatif_car['required_car_parking_spaces'].value_counts()"
   ]
  },
  {
   "cell_type": "code",
   "execution_count": 202,
   "metadata": {},
   "outputs": [
    {
     "data": {
      "image/png": "[encoded data removed]",
      "text/plain": [
       "<Figure size 504x504 with 1 Axes>"
      ]
     },
     "metadata": {},
     "output_type": "display_data"
    }
   ],
   "source": [
    "car_pred = XGBmodel.predict(whatif_car)\n",
    "df = pd.DataFrame(data=car_pred, columns=[\"Is_Canceled\"])\n",
    "df['Is_Canceled'].value_counts()\n",
    "piedata = df['Is_Canceled'].value_counts()  # cancellation rate for pred based on test data set\n",
    "my_colors = ['lightblue','lavender'] # custom colors\n",
    "my_explode = (0.1,0) # custom effects\n",
    "plt.figure(figsize=(7,7)) #custom size for the pie chart\n",
    "piedata.plot.pie(autopct=\"%.1f%%\",colors=my_colors,explode=my_explode,shadow=True) #pie chart creation\n",
    "plt.title(\"Cancellation rate for H2, XGBoost classifier when all guetss have requested one parking space\")\n",
    "plt.show() # displaying only chart without the extra information"
   ]
  },
  {
   "cell_type": "code",
   "execution_count": 203,
   "metadata": {},
   "outputs": [
    {
     "name": "stdout",
     "output_type": "stream",
     "text": [
      "Accuracy: 75.72%\n"
     ]
    }
   ],
   "source": [
    "accuracy = metrics.accuracy_score(Y, car_pred)\n",
    "print(\"Accuracy: %.2f%%\" % (accuracy * 100.0))"
   ]
  },
  {
   "cell_type": "code",
   "execution_count": null,
   "metadata": {},
   "outputs": [],
   "source": []
  }
 ],
 "metadata": {
  "kernelspec": {
   "display_name": "Python 3",
   "language": "python",
   "name": "python3"
  },
  "language_info": {
   "codemirror_mode": {
    "name": "ipython",
    "version": 3
   },
   "file_extension": ".py",
   "mimetype": "text/x-python",
   "name": "python",
   "nbconvert_exporter": "python",
   "pygments_lexer": "ipython3",
   "version": "3.8.3"
  }
 },
 "nbformat": 4,
 "nbformat_minor": 4
}
