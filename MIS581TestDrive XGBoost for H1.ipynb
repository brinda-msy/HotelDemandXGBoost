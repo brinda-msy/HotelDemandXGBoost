{
 "cells": [
  {
   "cell_type": "code",
   "execution_count": 54,
   "metadata": {},
   "outputs": [
    {
     "data": {
      "text/html": [
       "<div>\n",
       "<style scoped>\n",
       "    .dataframe tbody tr th:only-of-type {\n",
       "        vertical-align: middle;\n",
       "    }\n",
       "\n",
       "    .dataframe tbody tr th {\n",
       "        vertical-align: top;\n",
       "    }\n",
       "\n",
       "    .dataframe thead th {\n",
       "        text-align: right;\n",
       "    }\n",
       "</style>\n",
       "<table border=\"1\" class=\"dataframe\">\n",
       "  <thead>\n",
       "    <tr style=\"text-align: right;\">\n",
       "      <th></th>\n",
       "      <th>is_canceled</th>\n",
       "      <th>lead_time</th>\n",
       "      <th>arrival_date_year</th>\n",
       "      <th>arrival_date_month</th>\n",
       "      <th>arrival_date_week_number</th>\n",
       "      <th>stays_in_weekend_nights</th>\n",
       "      <th>stays_in_week_nights</th>\n",
       "      <th>adults</th>\n",
       "      <th>children</th>\n",
       "      <th>babies</th>\n",
       "      <th>...</th>\n",
       "      <th>is_repeated_guest</th>\n",
       "      <th>previous_cancellations</th>\n",
       "      <th>previous_bookings_not_canceled</th>\n",
       "      <th>booking_changes</th>\n",
       "      <th>deposit_type</th>\n",
       "      <th>days_in_waiting_list</th>\n",
       "      <th>adr</th>\n",
       "      <th>required_car_parking_spaces</th>\n",
       "      <th>total_of_special_requests</th>\n",
       "      <th>different_assigned_room</th>\n",
       "    </tr>\n",
       "  </thead>\n",
       "  <tbody>\n",
       "    <tr>\n",
       "      <th>0</th>\n",
       "      <td>0</td>\n",
       "      <td>342</td>\n",
       "      <td>2015</td>\n",
       "      <td>7</td>\n",
       "      <td>27</td>\n",
       "      <td>0</td>\n",
       "      <td>0</td>\n",
       "      <td>2</td>\n",
       "      <td>0.0</td>\n",
       "      <td>0</td>\n",
       "      <td>...</td>\n",
       "      <td>0</td>\n",
       "      <td>0</td>\n",
       "      <td>0</td>\n",
       "      <td>3</td>\n",
       "      <td>1</td>\n",
       "      <td>0</td>\n",
       "      <td>0.00</td>\n",
       "      <td>0</td>\n",
       "      <td>0</td>\n",
       "      <td>0</td>\n",
       "    </tr>\n",
       "    <tr>\n",
       "      <th>1</th>\n",
       "      <td>0</td>\n",
       "      <td>737</td>\n",
       "      <td>2015</td>\n",
       "      <td>7</td>\n",
       "      <td>27</td>\n",
       "      <td>0</td>\n",
       "      <td>0</td>\n",
       "      <td>2</td>\n",
       "      <td>0.0</td>\n",
       "      <td>0</td>\n",
       "      <td>...</td>\n",
       "      <td>0</td>\n",
       "      <td>0</td>\n",
       "      <td>0</td>\n",
       "      <td>4</td>\n",
       "      <td>1</td>\n",
       "      <td>0</td>\n",
       "      <td>0.00</td>\n",
       "      <td>0</td>\n",
       "      <td>0</td>\n",
       "      <td>0</td>\n",
       "    </tr>\n",
       "    <tr>\n",
       "      <th>2</th>\n",
       "      <td>0</td>\n",
       "      <td>7</td>\n",
       "      <td>2015</td>\n",
       "      <td>7</td>\n",
       "      <td>27</td>\n",
       "      <td>0</td>\n",
       "      <td>1</td>\n",
       "      <td>1</td>\n",
       "      <td>0.0</td>\n",
       "      <td>0</td>\n",
       "      <td>...</td>\n",
       "      <td>0</td>\n",
       "      <td>0</td>\n",
       "      <td>0</td>\n",
       "      <td>0</td>\n",
       "      <td>1</td>\n",
       "      <td>0</td>\n",
       "      <td>75.00</td>\n",
       "      <td>0</td>\n",
       "      <td>0</td>\n",
       "      <td>1</td>\n",
       "    </tr>\n",
       "    <tr>\n",
       "      <th>3</th>\n",
       "      <td>0</td>\n",
       "      <td>13</td>\n",
       "      <td>2015</td>\n",
       "      <td>7</td>\n",
       "      <td>27</td>\n",
       "      <td>0</td>\n",
       "      <td>1</td>\n",
       "      <td>1</td>\n",
       "      <td>0.0</td>\n",
       "      <td>0</td>\n",
       "      <td>...</td>\n",
       "      <td>0</td>\n",
       "      <td>0</td>\n",
       "      <td>0</td>\n",
       "      <td>0</td>\n",
       "      <td>1</td>\n",
       "      <td>0</td>\n",
       "      <td>75.00</td>\n",
       "      <td>0</td>\n",
       "      <td>0</td>\n",
       "      <td>0</td>\n",
       "    </tr>\n",
       "    <tr>\n",
       "      <th>4</th>\n",
       "      <td>0</td>\n",
       "      <td>14</td>\n",
       "      <td>2015</td>\n",
       "      <td>7</td>\n",
       "      <td>27</td>\n",
       "      <td>0</td>\n",
       "      <td>2</td>\n",
       "      <td>2</td>\n",
       "      <td>0.0</td>\n",
       "      <td>0</td>\n",
       "      <td>...</td>\n",
       "      <td>0</td>\n",
       "      <td>0</td>\n",
       "      <td>0</td>\n",
       "      <td>0</td>\n",
       "      <td>1</td>\n",
       "      <td>0</td>\n",
       "      <td>98.00</td>\n",
       "      <td>0</td>\n",
       "      <td>1</td>\n",
       "      <td>0</td>\n",
       "    </tr>\n",
       "    <tr>\n",
       "      <th>5</th>\n",
       "      <td>0</td>\n",
       "      <td>14</td>\n",
       "      <td>2015</td>\n",
       "      <td>7</td>\n",
       "      <td>27</td>\n",
       "      <td>0</td>\n",
       "      <td>2</td>\n",
       "      <td>2</td>\n",
       "      <td>0.0</td>\n",
       "      <td>0</td>\n",
       "      <td>...</td>\n",
       "      <td>0</td>\n",
       "      <td>0</td>\n",
       "      <td>0</td>\n",
       "      <td>0</td>\n",
       "      <td>1</td>\n",
       "      <td>0</td>\n",
       "      <td>98.00</td>\n",
       "      <td>0</td>\n",
       "      <td>1</td>\n",
       "      <td>0</td>\n",
       "    </tr>\n",
       "    <tr>\n",
       "      <th>6</th>\n",
       "      <td>0</td>\n",
       "      <td>0</td>\n",
       "      <td>2015</td>\n",
       "      <td>7</td>\n",
       "      <td>27</td>\n",
       "      <td>0</td>\n",
       "      <td>2</td>\n",
       "      <td>2</td>\n",
       "      <td>0.0</td>\n",
       "      <td>0</td>\n",
       "      <td>...</td>\n",
       "      <td>0</td>\n",
       "      <td>0</td>\n",
       "      <td>0</td>\n",
       "      <td>0</td>\n",
       "      <td>1</td>\n",
       "      <td>0</td>\n",
       "      <td>107.00</td>\n",
       "      <td>0</td>\n",
       "      <td>0</td>\n",
       "      <td>0</td>\n",
       "    </tr>\n",
       "    <tr>\n",
       "      <th>7</th>\n",
       "      <td>0</td>\n",
       "      <td>9</td>\n",
       "      <td>2015</td>\n",
       "      <td>7</td>\n",
       "      <td>27</td>\n",
       "      <td>0</td>\n",
       "      <td>2</td>\n",
       "      <td>2</td>\n",
       "      <td>0.0</td>\n",
       "      <td>0</td>\n",
       "      <td>...</td>\n",
       "      <td>0</td>\n",
       "      <td>0</td>\n",
       "      <td>0</td>\n",
       "      <td>0</td>\n",
       "      <td>1</td>\n",
       "      <td>0</td>\n",
       "      <td>103.00</td>\n",
       "      <td>0</td>\n",
       "      <td>1</td>\n",
       "      <td>0</td>\n",
       "    </tr>\n",
       "    <tr>\n",
       "      <th>8</th>\n",
       "      <td>1</td>\n",
       "      <td>85</td>\n",
       "      <td>2015</td>\n",
       "      <td>7</td>\n",
       "      <td>27</td>\n",
       "      <td>0</td>\n",
       "      <td>3</td>\n",
       "      <td>2</td>\n",
       "      <td>0.0</td>\n",
       "      <td>0</td>\n",
       "      <td>...</td>\n",
       "      <td>0</td>\n",
       "      <td>0</td>\n",
       "      <td>0</td>\n",
       "      <td>0</td>\n",
       "      <td>1</td>\n",
       "      <td>0</td>\n",
       "      <td>82.00</td>\n",
       "      <td>0</td>\n",
       "      <td>1</td>\n",
       "      <td>0</td>\n",
       "    </tr>\n",
       "    <tr>\n",
       "      <th>9</th>\n",
       "      <td>1</td>\n",
       "      <td>75</td>\n",
       "      <td>2015</td>\n",
       "      <td>7</td>\n",
       "      <td>27</td>\n",
       "      <td>0</td>\n",
       "      <td>3</td>\n",
       "      <td>2</td>\n",
       "      <td>0.0</td>\n",
       "      <td>0</td>\n",
       "      <td>...</td>\n",
       "      <td>0</td>\n",
       "      <td>0</td>\n",
       "      <td>0</td>\n",
       "      <td>0</td>\n",
       "      <td>1</td>\n",
       "      <td>0</td>\n",
       "      <td>105.50</td>\n",
       "      <td>0</td>\n",
       "      <td>0</td>\n",
       "      <td>0</td>\n",
       "    </tr>\n",
       "    <tr>\n",
       "      <th>10</th>\n",
       "      <td>1</td>\n",
       "      <td>23</td>\n",
       "      <td>2015</td>\n",
       "      <td>7</td>\n",
       "      <td>27</td>\n",
       "      <td>0</td>\n",
       "      <td>4</td>\n",
       "      <td>2</td>\n",
       "      <td>0.0</td>\n",
       "      <td>0</td>\n",
       "      <td>...</td>\n",
       "      <td>0</td>\n",
       "      <td>0</td>\n",
       "      <td>0</td>\n",
       "      <td>0</td>\n",
       "      <td>1</td>\n",
       "      <td>0</td>\n",
       "      <td>123.00</td>\n",
       "      <td>0</td>\n",
       "      <td>0</td>\n",
       "      <td>0</td>\n",
       "    </tr>\n",
       "    <tr>\n",
       "      <th>11</th>\n",
       "      <td>0</td>\n",
       "      <td>35</td>\n",
       "      <td>2015</td>\n",
       "      <td>7</td>\n",
       "      <td>27</td>\n",
       "      <td>0</td>\n",
       "      <td>4</td>\n",
       "      <td>2</td>\n",
       "      <td>0.0</td>\n",
       "      <td>0</td>\n",
       "      <td>...</td>\n",
       "      <td>0</td>\n",
       "      <td>0</td>\n",
       "      <td>0</td>\n",
       "      <td>0</td>\n",
       "      <td>1</td>\n",
       "      <td>0</td>\n",
       "      <td>145.00</td>\n",
       "      <td>0</td>\n",
       "      <td>0</td>\n",
       "      <td>0</td>\n",
       "    </tr>\n",
       "    <tr>\n",
       "      <th>12</th>\n",
       "      <td>0</td>\n",
       "      <td>68</td>\n",
       "      <td>2015</td>\n",
       "      <td>7</td>\n",
       "      <td>27</td>\n",
       "      <td>0</td>\n",
       "      <td>4</td>\n",
       "      <td>2</td>\n",
       "      <td>0.0</td>\n",
       "      <td>0</td>\n",
       "      <td>...</td>\n",
       "      <td>0</td>\n",
       "      <td>0</td>\n",
       "      <td>0</td>\n",
       "      <td>0</td>\n",
       "      <td>1</td>\n",
       "      <td>0</td>\n",
       "      <td>97.00</td>\n",
       "      <td>0</td>\n",
       "      <td>3</td>\n",
       "      <td>1</td>\n",
       "    </tr>\n",
       "    <tr>\n",
       "      <th>13</th>\n",
       "      <td>0</td>\n",
       "      <td>18</td>\n",
       "      <td>2015</td>\n",
       "      <td>7</td>\n",
       "      <td>27</td>\n",
       "      <td>0</td>\n",
       "      <td>4</td>\n",
       "      <td>2</td>\n",
       "      <td>1.0</td>\n",
       "      <td>0</td>\n",
       "      <td>...</td>\n",
       "      <td>0</td>\n",
       "      <td>0</td>\n",
       "      <td>0</td>\n",
       "      <td>1</td>\n",
       "      <td>1</td>\n",
       "      <td>0</td>\n",
       "      <td>154.77</td>\n",
       "      <td>0</td>\n",
       "      <td>1</td>\n",
       "      <td>0</td>\n",
       "    </tr>\n",
       "    <tr>\n",
       "      <th>14</th>\n",
       "      <td>0</td>\n",
       "      <td>37</td>\n",
       "      <td>2015</td>\n",
       "      <td>7</td>\n",
       "      <td>27</td>\n",
       "      <td>0</td>\n",
       "      <td>4</td>\n",
       "      <td>2</td>\n",
       "      <td>0.0</td>\n",
       "      <td>0</td>\n",
       "      <td>...</td>\n",
       "      <td>0</td>\n",
       "      <td>0</td>\n",
       "      <td>0</td>\n",
       "      <td>0</td>\n",
       "      <td>1</td>\n",
       "      <td>0</td>\n",
       "      <td>94.71</td>\n",
       "      <td>0</td>\n",
       "      <td>0</td>\n",
       "      <td>0</td>\n",
       "    </tr>\n",
       "  </tbody>\n",
       "</table>\n",
       "<p>15 rows × 23 columns</p>\n",
       "</div>"
      ],
      "text/plain": [
       "    is_canceled  lead_time  arrival_date_year  arrival_date_month  \\\n",
       "0             0        342               2015                   7   \n",
       "1             0        737               2015                   7   \n",
       "2             0          7               2015                   7   \n",
       "3             0         13               2015                   7   \n",
       "4             0         14               2015                   7   \n",
       "5             0         14               2015                   7   \n",
       "6             0          0               2015                   7   \n",
       "7             0          9               2015                   7   \n",
       "8             1         85               2015                   7   \n",
       "9             1         75               2015                   7   \n",
       "10            1         23               2015                   7   \n",
       "11            0         35               2015                   7   \n",
       "12            0         68               2015                   7   \n",
       "13            0         18               2015                   7   \n",
       "14            0         37               2015                   7   \n",
       "\n",
       "    arrival_date_week_number  stays_in_weekend_nights  stays_in_week_nights  \\\n",
       "0                         27                        0                     0   \n",
       "1                         27                        0                     0   \n",
       "2                         27                        0                     1   \n",
       "3                         27                        0                     1   \n",
       "4                         27                        0                     2   \n",
       "5                         27                        0                     2   \n",
       "6                         27                        0                     2   \n",
       "7                         27                        0                     2   \n",
       "8                         27                        0                     3   \n",
       "9                         27                        0                     3   \n",
       "10                        27                        0                     4   \n",
       "11                        27                        0                     4   \n",
       "12                        27                        0                     4   \n",
       "13                        27                        0                     4   \n",
       "14                        27                        0                     4   \n",
       "\n",
       "    adults  children  babies  ...  is_repeated_guest  previous_cancellations  \\\n",
       "0        2       0.0       0  ...                  0                       0   \n",
       "1        2       0.0       0  ...                  0                       0   \n",
       "2        1       0.0       0  ...                  0                       0   \n",
       "3        1       0.0       0  ...                  0                       0   \n",
       "4        2       0.0       0  ...                  0                       0   \n",
       "5        2       0.0       0  ...                  0                       0   \n",
       "6        2       0.0       0  ...                  0                       0   \n",
       "7        2       0.0       0  ...                  0                       0   \n",
       "8        2       0.0       0  ...                  0                       0   \n",
       "9        2       0.0       0  ...                  0                       0   \n",
       "10       2       0.0       0  ...                  0                       0   \n",
       "11       2       0.0       0  ...                  0                       0   \n",
       "12       2       0.0       0  ...                  0                       0   \n",
       "13       2       1.0       0  ...                  0                       0   \n",
       "14       2       0.0       0  ...                  0                       0   \n",
       "\n",
       "    previous_bookings_not_canceled  booking_changes  deposit_type  \\\n",
       "0                                0                3             1   \n",
       "1                                0                4             1   \n",
       "2                                0                0             1   \n",
       "3                                0                0             1   \n",
       "4                                0                0             1   \n",
       "5                                0                0             1   \n",
       "6                                0                0             1   \n",
       "7                                0                0             1   \n",
       "8                                0                0             1   \n",
       "9                                0                0             1   \n",
       "10                               0                0             1   \n",
       "11                               0                0             1   \n",
       "12                               0                0             1   \n",
       "13                               0                1             1   \n",
       "14                               0                0             1   \n",
       "\n",
       "    days_in_waiting_list     adr  required_car_parking_spaces  \\\n",
       "0                      0    0.00                            0   \n",
       "1                      0    0.00                            0   \n",
       "2                      0   75.00                            0   \n",
       "3                      0   75.00                            0   \n",
       "4                      0   98.00                            0   \n",
       "5                      0   98.00                            0   \n",
       "6                      0  107.00                            0   \n",
       "7                      0  103.00                            0   \n",
       "8                      0   82.00                            0   \n",
       "9                      0  105.50                            0   \n",
       "10                     0  123.00                            0   \n",
       "11                     0  145.00                            0   \n",
       "12                     0   97.00                            0   \n",
       "13                     0  154.77                            0   \n",
       "14                     0   94.71                            0   \n",
       "\n",
       "    total_of_special_requests  different_assigned_room  \n",
       "0                           0                        0  \n",
       "1                           0                        0  \n",
       "2                           0                        1  \n",
       "3                           0                        0  \n",
       "4                           1                        0  \n",
       "5                           1                        0  \n",
       "6                           0                        0  \n",
       "7                           1                        0  \n",
       "8                           1                        0  \n",
       "9                           0                        0  \n",
       "10                          0                        0  \n",
       "11                          0                        0  \n",
       "12                          3                        1  \n",
       "13                          1                        0  \n",
       "14                          0                        0  \n",
       "\n",
       "[15 rows x 23 columns]"
      ]
     },
     "execution_count": 54,
     "metadata": {},
     "output_type": "execute_result"
    }
   ],
   "source": [
    "import pandas as pd # import pandas \n",
    "import os \n",
    "bookings = pd.read_csv(\"/Users/brindamunuswamy/Desktop/MIS581/h1Features.csv\") # read CSV into pandas\n",
    "bookings.head(15) #reading top 5 rows"
   ]
  },
  {
   "cell_type": "code",
   "execution_count": 55,
   "metadata": {},
   "outputs": [
    {
     "name": "stdout",
     "output_type": "stream",
     "text": [
      "<class 'pandas.core.frame.DataFrame'>\n",
      "RangeIndex: 40060 entries, 0 to 40059\n",
      "Data columns (total 23 columns):\n",
      " #   Column                          Non-Null Count  Dtype  \n",
      "---  ------                          --------------  -----  \n",
      " 0   is_canceled                     40060 non-null  int64  \n",
      " 1   lead_time                       40060 non-null  int64  \n",
      " 2   arrival_date_year               40060 non-null  int64  \n",
      " 3   arrival_date_month              40060 non-null  int64  \n",
      " 4   arrival_date_week_number        40060 non-null  int64  \n",
      " 5   stays_in_weekend_nights         40060 non-null  int64  \n",
      " 6   stays_in_week_nights            40060 non-null  int64  \n",
      " 7   adults                          40060 non-null  int64  \n",
      " 8   children                        40060 non-null  float64\n",
      " 9   babies                          40060 non-null  int64  \n",
      " 10  meal                            40060 non-null  int64  \n",
      " 11  market_segment                  40060 non-null  int64  \n",
      " 12  distribution_channel            40060 non-null  int64  \n",
      " 13  is_repeated_guest               40060 non-null  int64  \n",
      " 14  previous_cancellations          40060 non-null  int64  \n",
      " 15  previous_bookings_not_canceled  40060 non-null  int64  \n",
      " 16  booking_changes                 40060 non-null  int64  \n",
      " 17  deposit_type                    40060 non-null  int64  \n",
      " 18  days_in_waiting_list            40060 non-null  int64  \n",
      " 19  adr                             40060 non-null  float64\n",
      " 20  required_car_parking_spaces     40060 non-null  int64  \n",
      " 21  total_of_special_requests       40060 non-null  int64  \n",
      " 22  different_assigned_room         40060 non-null  int64  \n",
      "dtypes: float64(2), int64(21)\n",
      "memory usage: 7.0 MB\n"
     ]
    }
   ],
   "source": [
    "bookings.info()"
   ]
  },
  {
   "cell_type": "code",
   "execution_count": 56,
   "metadata": {},
   "outputs": [
    {
     "data": {
      "text/plain": [
       "0    28938\n",
       "1    11122\n",
       "Name: is_canceled, dtype: int64"
      ]
     },
     "execution_count": 56,
     "metadata": {},
     "output_type": "execute_result"
    }
   ],
   "source": [
    "bookings['is_canceled'].value_counts() "
   ]
  },
  {
   "cell_type": "code",
   "execution_count": 33,
   "metadata": {},
   "outputs": [
    {
     "data": {
      "image/png": "[encoded data removed]",
      "text/plain": [
       "<Figure size 504x504 with 1 Axes>"
      ]
     },
     "metadata": {},
     "output_type": "display_data"
    }
   ],
   "source": [
    "bookings['is_canceled'].value_counts() #benchmark cancellation rate for h1\n",
    "import matplotlib.pyplot as plt\n",
    "piedata = bookings['is_canceled'].value_counts()\n",
    "my_colors = ['lightblue','lavender'] # custom colors\n",
    "my_explode = (0.1,0) # custom effects\n",
    "plt.figure(figsize=(7,7)) #custom size for the pie chart\n",
    "piedata.plot.pie(autopct=\"%.1f%%\",colors=my_colors,explode=my_explode,shadow=True) #pie chart creation\n",
    "plt.title(\"Cancellation Rate for h1\")\n",
    "plt.show()"
   ]
  },
  {
   "cell_type": "code",
   "execution_count": 34,
   "metadata": {},
   "outputs": [],
   "source": [
    "from numpy import loadtxt\n",
    "from xgboost import XGBClassifier\n",
    "from sklearn.model_selection import train_test_split\n",
    "from sklearn.metrics import accuracy_score"
   ]
  },
  {
   "cell_type": "code",
   "execution_count": 35,
   "metadata": {},
   "outputs": [
    {
     "name": "stdout",
     "output_type": "stream",
     "text": [
      "<class 'pandas.core.frame.DataFrame'>\n",
      "RangeIndex: 40060 entries, 0 to 40059\n",
      "Data columns (total 22 columns):\n",
      " #   Column                          Non-Null Count  Dtype  \n",
      "---  ------                          --------------  -----  \n",
      " 0   lead_time                       40060 non-null  int64  \n",
      " 1   arrival_date_year               40060 non-null  int64  \n",
      " 2   arrival_date_month              40060 non-null  int64  \n",
      " 3   arrival_date_week_number        40060 non-null  int64  \n",
      " 4   stays_in_weekend_nights         40060 non-null  int64  \n",
      " 5   stays_in_week_nights            40060 non-null  int64  \n",
      " 6   adults                          40060 non-null  int64  \n",
      " 7   children                        40060 non-null  float64\n",
      " 8   babies                          40060 non-null  int64  \n",
      " 9   meal                            40060 non-null  int64  \n",
      " 10  market_segment                  40060 non-null  int64  \n",
      " 11  distribution_channel            40060 non-null  int64  \n",
      " 12  is_repeated_guest               40060 non-null  int64  \n",
      " 13  previous_cancellations          40060 non-null  int64  \n",
      " 14  previous_bookings_not_canceled  40060 non-null  int64  \n",
      " 15  booking_changes                 40060 non-null  int64  \n",
      " 16  deposit_type                    40060 non-null  int64  \n",
      " 17  days_in_waiting_list            40060 non-null  int64  \n",
      " 18  adr                             40060 non-null  float64\n",
      " 19  required_car_parking_spaces     40060 non-null  int64  \n",
      " 20  total_of_special_requests       40060 non-null  int64  \n",
      " 21  different_assigned_room         40060 non-null  int64  \n",
      "dtypes: float64(2), int64(20)\n",
      "memory usage: 6.7 MB\n"
     ]
    }
   ],
   "source": [
    "X=bookings.iloc[:, [1,2,3,4,5,6,7,8,9,10,11,12,13,14,15,16,17,18,19,20,21,22]] \n",
    "X.info()"
   ]
  },
  {
   "cell_type": "code",
   "execution_count": 36,
   "metadata": {},
   "outputs": [],
   "source": [
    "#df = df.astype({\"Column 1\": float, \"Column 2\": int})\n",
    "#X=X.astype({\"adr\": int})"
   ]
  },
  {
   "cell_type": "code",
   "execution_count": 37,
   "metadata": {},
   "outputs": [
    {
     "name": "stdout",
     "output_type": "stream",
     "text": [
      "<class 'pandas.core.frame.DataFrame'>\n",
      "RangeIndex: 40060 entries, 0 to 40059\n",
      "Data columns (total 1 columns):\n",
      " #   Column       Non-Null Count  Dtype\n",
      "---  ------       --------------  -----\n",
      " 0   is_canceled  40060 non-null  int64\n",
      "dtypes: int64(1)\n",
      "memory usage: 313.1 KB\n"
     ]
    }
   ],
   "source": [
    "Y = bookings.iloc[:,[0]]\n",
    "Y.info()"
   ]
  },
  {
   "cell_type": "code",
   "execution_count": 38,
   "metadata": {},
   "outputs": [],
   "source": [
    "X_train, X_test, Y_train, Y_test = train_test_split(X, Y, test_size=0.3)"
   ]
  },
  {
   "cell_type": "code",
   "execution_count": 39,
   "metadata": {},
   "outputs": [
    {
     "data": {
      "text/plain": [
       "XGBClassifier(base_score=0.5, booster='gbtree', colsample_bylevel=1,\n",
       "              colsample_bynode=1, colsample_bytree=1, eval_metric='error',\n",
       "              gamma=0, gpu_id=-1, importance_type='gain',\n",
       "              interaction_constraints='', learning_rate=0.300000012,\n",
       "              max_delta_step=0, max_depth=6, min_child_weight=1, missing=nan,\n",
       "              monotone_constraints='()', n_estimators=100, n_jobs=4,\n",
       "              num_parallel_tree=1, random_state=0, reg_alpha=0, reg_lambda=1,\n",
       "              scale_pos_weight=1, subsample=1, tree_method='exact',\n",
       "              use_label_encoder=False, validate_parameters=1, verbosity=None)"
      ]
     },
     "execution_count": 39,
     "metadata": {},
     "output_type": "execute_result"
    }
   ],
   "source": [
    "import numpy as np\n",
    "XGBmodel = XGBClassifier(eval_metric='error',use_label_encoder=False)\n",
    "XGBmodel.fit(X_train, np.ravel(Y_train))"
   ]
  },
  {
   "cell_type": "code",
   "execution_count": 40,
   "metadata": {},
   "outputs": [],
   "source": [
    "Y_pred = XGBmodel.predict(X_test) # Predictions for test data set\n",
    "predictions = [round(value) for value in Y_pred]"
   ]
  },
  {
   "cell_type": "code",
   "execution_count": 41,
   "metadata": {},
   "outputs": [
    {
     "name": "stdout",
     "output_type": "stream",
     "text": [
      "Accuracy: 85.06%\n"
     ]
    }
   ],
   "source": [
    "accuracy = accuracy_score(Y_test, predictions)\n",
    "print(\"Accuracy: %.2f%%\" % (accuracy * 100.0))"
   ]
  },
  {
   "cell_type": "code",
   "execution_count": 42,
   "metadata": {},
   "outputs": [
    {
     "name": "stdout",
     "output_type": "stream",
     "text": [
      "[[8091  622]\n",
      " [1173 2132]]\n"
     ]
    }
   ],
   "source": [
    "from sklearn.model_selection import cross_val_score\n",
    "from sklearn.metrics import classification_report, confusion_matrix\n",
    "print(confusion_matrix(Y_test, Y_pred))"
   ]
  },
  {
   "cell_type": "code",
   "execution_count": 43,
   "metadata": {},
   "outputs": [
    {
     "name": "stdout",
     "output_type": "stream",
     "text": [
      "              precision    recall  f1-score   support\n",
      "\n",
      "           0       0.87      0.93      0.90      8713\n",
      "           1       0.77      0.65      0.70      3305\n",
      "\n",
      "    accuracy                           0.85     12018\n",
      "   macro avg       0.82      0.79      0.80     12018\n",
      "weighted avg       0.85      0.85      0.85     12018\n",
      "\n"
     ]
    }
   ],
   "source": [
    "print(classification_report(Y_test, Y_pred))"
   ]
  },
  {
   "cell_type": "code",
   "execution_count": 44,
   "metadata": {},
   "outputs": [
    {
     "name": "stdout",
     "output_type": "stream",
     "text": [
      "Mean AUC Score - XGBoost:  0.36899215148798786\n"
     ]
    }
   ],
   "source": [
    "xgb_score = cross_val_score(XGBmodel, X, np.ravel(Y), cv=10, scoring='roc_auc')\n",
    "print(\"Mean AUC Score - XGBoost: \", xgb_score.mean())"
   ]
  },
  {
   "cell_type": "code",
   "execution_count": 45,
   "metadata": {},
   "outputs": [
    {
     "data": {
      "text/plain": [
       "0    9264\n",
       "1    2754\n",
       "Name: canceled, dtype: int64"
      ]
     },
     "execution_count": 45,
     "metadata": {},
     "output_type": "execute_result"
    }
   ],
   "source": [
    "df = pd.DataFrame(data=Y_pred, columns=[\"canceled\"])\n",
    "df['canceled'].value_counts()"
   ]
  },
  {
   "cell_type": "code",
   "execution_count": 46,
   "metadata": {},
   "outputs": [
    {
     "data": {
      "image/png": "[encoded data removed]",
      "text/plain": [
       "<Figure size 504x504 with 1 Axes>"
      ]
     },
     "metadata": {},
     "output_type": "display_data"
    }
   ],
   "source": [
    "import matplotlib.pyplot as plt\n",
    "piedata = df['canceled'].value_counts()\n",
    "my_colors = ['lightblue','lavender'] # custom colors\n",
    "my_explode = (0.1,0) # custom effects\n",
    "plt.figure(figsize=(7,7)) #custom size for the pie chart\n",
    "piedata.plot.pie(autopct=\"%.1f%%\",colors=my_colors,explode=my_explode,shadow=True) #pie chart creation\n",
    "#plt.title(\"Pie chart showing total worldwide gross income of movies, by genre\")\n",
    "plt.show() # displaying only chart without the extra information\n",
    "#benchmark\n",
    "#0    28938\n",
    "#1    11122"
   ]
  },
  {
   "cell_type": "code",
   "execution_count": 47,
   "metadata": {},
   "outputs": [],
   "source": [
    "Y_pred_X = XGBmodel.predict(X) # Predictions for entire data set\n",
    "predictions = [round(value) for value in Y_pred_X]"
   ]
  },
  {
   "cell_type": "code",
   "execution_count": 48,
   "metadata": {},
   "outputs": [
    {
     "name": "stdout",
     "output_type": "stream",
     "text": [
      "Accuracy: 88.10%\n"
     ]
    }
   ],
   "source": [
    "accuracy = accuracy_score(Y, predictions) # accuracy for predictions for entire data set \n",
    "print(\"Accuracy: %.2f%%\" % (accuracy * 100.0))"
   ]
  },
  {
   "cell_type": "code",
   "execution_count": 49,
   "metadata": {},
   "outputs": [
    {
     "name": "stdout",
     "output_type": "stream",
     "text": [
      "[[27435  1503]\n",
      " [ 3263  7859]]\n"
     ]
    }
   ],
   "source": [
    "print(confusion_matrix(Y, Y_pred_X)) # confusion matrix for predictions for entire data set"
   ]
  },
  {
   "cell_type": "code",
   "execution_count": 50,
   "metadata": {},
   "outputs": [
    {
     "name": "stdout",
     "output_type": "stream",
     "text": [
      "              precision    recall  f1-score   support\n",
      "\n",
      "           0       0.89      0.95      0.92     28938\n",
      "           1       0.84      0.71      0.77     11122\n",
      "\n",
      "    accuracy                           0.88     40060\n",
      "   macro avg       0.87      0.83      0.84     40060\n",
      "weighted avg       0.88      0.88      0.88     40060\n",
      "\n"
     ]
    }
   ],
   "source": [
    "print(classification_report(Y, Y_pred_X))"
   ]
  },
  {
   "cell_type": "code",
   "execution_count": 52,
   "metadata": {},
   "outputs": [
    {
     "data": {
      "text/plain": [
       "0    30698\n",
       "1     9362\n",
       "Name: canceled, dtype: int64"
      ]
     },
     "execution_count": 52,
     "metadata": {},
     "output_type": "execute_result"
    }
   ],
   "source": [
    "df = pd.DataFrame(data=Y_pred_X, columns=[\"canceled\"]) # cancellation rate for entire data set\n",
    "df['canceled'].value_counts()"
   ]
  },
  {
   "cell_type": "code",
   "execution_count": 53,
   "metadata": {},
   "outputs": [
    {
     "data": {
      "image/png": "[encoded data removed]",
      "text/plain": [
       "<Figure size 504x504 with 1 Axes>"
      ]
     },
     "metadata": {},
     "output_type": "display_data"
    }
   ],
   "source": [
    "piedata = df['canceled'].value_counts()\n",
    "my_colors = ['lightblue','lavender'] # custom colors\n",
    "my_explode = (0.1,0) # custom effects\n",
    "plt.figure(figsize=(7,7)) #custom size for the pie chart\n",
    "piedata.plot.pie(autopct=\"%.1f%%\",colors=my_colors,explode=my_explode,shadow=True) #pie chart creation\n",
    "#plt.title(\"Pie chart showing total worldwide gross income of movies, by genre\")\n",
    "plt.show() # displaying only chart without the extra information\n",
    "#benchmark\n",
    "#0    28938\n",
    "#1    11122"
   ]
  },
  {
   "cell_type": "code",
   "execution_count": null,
   "metadata": {},
   "outputs": [],
   "source": []
  }
 ],
 "metadata": {
  "kernelspec": {
   "display_name": "Python 3",
   "language": "python",
   "name": "python3"
  },
  "language_info": {
   "codemirror_mode": {
    "name": "ipython",
    "version": 3
   },
   "file_extension": ".py",
   "mimetype": "text/x-python",
   "name": "python",
   "nbconvert_exporter": "python",
   "pygments_lexer": "ipython3",
   "version": "3.8.3"
  }
 },
 "nbformat": 4,
 "nbformat_minor": 4
}
